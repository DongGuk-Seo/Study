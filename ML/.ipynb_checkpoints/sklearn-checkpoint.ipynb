{
 "cells": [
  {
   "cell_type": "markdown",
   "id": "dcad566e",
   "metadata": {},
   "source": [
    "scikit-learn : Python 오픈소스 라이브러리 중 ML 구현 특화 라이브러리\n",
    " - 특징 :\n",
    "  1. 대부분의 ML algorithm들이 구현되어 있음\n",
    "  2. 구조적으로 잘 만들어져있음\n",
    "  3. 머신러닝을 위해 만들어진 라이브러리(딥러닝에는 부적합)\n",
    "  4. sklearn 이후 만들어진 대부분의 ML 라이브러리들이 모두 sklearn-style을 따름\n",
    "  5. Pycaret이나 XGBoost, LightGBM, Catboost 같은 대표적인 ML 라이브러리들도 모두 sklearn에 의존성을 띔"
   ]
  },
  {
   "cell_type": "code",
   "execution_count": 2,
   "id": "9de1d5b1",
   "metadata": {},
   "outputs": [],
   "source": [
    "# Code\n",
    "# 1. 사용할 모델을 불러옴\n",
    "from sklearn.ensemble import RandomForestClassifier\n",
    "from sklearn.metrics import accuracy_score"
   ]
  },
  {
   "cell_type": "code",
   "execution_count": 3,
   "id": "5718504b",
   "metadata": {},
   "outputs": [],
   "source": [
    "# 2. Model의 객체를 선언\n",
    "model = RandomForestClassifier()"
   ]
  },
  {
   "cell_type": "code",
   "execution_count": null,
   "id": "f189015d",
   "metadata": {},
   "outputs": [],
   "source": [
    "# 3. training data 학습 진행\n",
    "model.fit(X_train, y_train)"
   ]
  },
  {
   "cell_type": "code",
   "execution_count": null,
   "id": "7b7cf140",
   "metadata": {},
   "outputs": [],
   "source": [
    "# 4. test data로 inference를 진행\n",
    "pred = model.predict(X_test)"
   ]
  },
  {
   "cell_type": "code",
   "execution_count": null,
   "id": "3d06f890",
   "metadata": {},
   "outputs": [],
   "source": [
    "# 5. Evaluation metric으로 평가를 진행\n",
    "print(\"Accuracy : %.4f%\" % accuracy_score(y_test,pred))"
   ]
  }
 ],
 "metadata": {
  "kernelspec": {
   "display_name": "Python 3 (ipykernel)",
   "language": "python",
   "name": "python3"
  },
  "language_info": {
   "codemirror_mode": {
    "name": "ipython",
    "version": 3
   },
   "file_extension": ".py",
   "mimetype": "text/x-python",
   "name": "python",
   "nbconvert_exporter": "python",
   "pygments_lexer": "ipython3",
   "version": "3.8.13"
  },
  "toc": {
   "base_numbering": 1,
   "nav_menu": {},
   "number_sections": true,
   "sideBar": true,
   "skip_h1_title": false,
   "title_cell": "Table of Contents",
   "title_sidebar": "Contents",
   "toc_cell": false,
   "toc_position": {},
   "toc_section_display": true,
   "toc_window_display": false
  }
 },
 "nbformat": 4,
 "nbformat_minor": 5
}
