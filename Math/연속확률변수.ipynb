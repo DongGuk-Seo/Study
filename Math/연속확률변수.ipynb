{
 "cells": [
  {
   "cell_type": "code",
   "execution_count": 1,
   "id": "f172001a",
   "metadata": {},
   "outputs": [],
   "source": [
    "import numpy as np\n",
    "import matplotlib.pyplot as plt\n",
    "\n",
    "%precision 3\n",
    "%matplotlib inline\n",
    "\n",
    "from scipy import integrate\n",
    "import warnings\n",
    "\n",
    "# 적분에 관한 warning이 출력되지 않게 설정\n",
    "warnings.filterwarnings(\n",
    "    'ignore',\n",
    "    category=integrate.IntegrationWarning\n",
    ")"
   ]
  },
  {
   "cell_type": "markdown",
   "id": "17895eae",
   "metadata": {},
   "source": [
    "## 연속형 확률 변수\n",
    ">* 취할 수 있는 값이 연속인 확률변수(셀 수 없음)\n",
    ">* 확률변수의 각 값이 나올 수 있는 확률은 0이며, 각 값들이 어떤 범위 안에 속할 확률로서 확률 값이 정의된다\n",
    "1.확률밀도함수\n",
    ">* 연속형 확률변수의 확률 정의에 사용되는 함수\n",
    ">* [a,b] : 확률변수가 취할 수 있는 값의 표현\n",
    ">* 확률변수 X가 x0 <= X <= x1의 구간에 들어갈 확률\n",
    "2.누적분포함수\n",
    ">* 확률변수 X가 x이하가 될 때의 확률"
   ]
  },
  {
   "cell_type": "code",
   "execution_count": 3,
   "id": "21f2d24c",
   "metadata": {},
   "outputs": [],
   "source": [
    "def E(X, g=lambda x: x):\n",
    "    x_range, f = x\n",
    "    def integrand(x):\n",
    "        return g(x) * f(x)\n",
    "    return integrate.quad(integrand, -np.inf, np.inf)[0]"
   ]
  },
  {
   "cell_type": "code",
   "execution_count": 6,
   "id": "dd01b0da",
   "metadata": {},
   "outputs": [
    {
     "ename": "SyntaxError",
     "evalue": "invalid syntax (1501202787.py, line 1)",
     "output_type": "error",
     "traceback": [
      "\u001b[0;36m  Input \u001b[0;32mIn [6]\u001b[0;36m\u001b[0m\n\u001b[0;31m    E(2X + 3)\u001b[0m\n\u001b[0m       ^\u001b[0m\n\u001b[0;31mSyntaxError\u001b[0m\u001b[0;31m:\u001b[0m invalid syntax\n"
     ]
    }
   ],
   "source": [
    "E(2X + 3)"
   ]
  },
  {
   "cell_type": "code",
   "execution_count": null,
   "id": "63b8a8c2",
   "metadata": {},
   "outputs": [],
   "source": []
  }
 ],
 "metadata": {
  "kernelspec": {
   "display_name": "Python 3 (ipykernel)",
   "language": "python",
   "name": "python3"
  },
  "language_info": {
   "codemirror_mode": {
    "name": "ipython",
    "version": 3
   },
   "file_extension": ".py",
   "mimetype": "text/x-python",
   "name": "python",
   "nbconvert_exporter": "python",
   "pygments_lexer": "ipython3",
   "version": "3.8.13"
  }
 },
 "nbformat": 4,
 "nbformat_minor": 5
}
